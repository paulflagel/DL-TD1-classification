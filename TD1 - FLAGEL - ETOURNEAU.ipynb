{
 "cells": [
  {
   "cell_type": "markdown",
   "id": "21874e4f",
   "metadata": {},
   "source": [
    "# TD1 - KPPV et réseaux de neurones pour la classification d'images"
   ]
  },
  {
   "cell_type": "markdown",
   "id": "e33b54d3",
   "metadata": {},
   "source": [
    "**Paul Flagel - Nathan Etourneau**"
   ]
  },
  {
   "cell_type": "markdown",
   "id": "4138ad2b",
   "metadata": {},
   "source": [
    "L'objectif de ce TP est d'implémenter un classifieur d'images au moyen de deux méthodes : les K Plus Proches Voisins (KPPV) et un réseau de neurones."
   ]
  },
  {
   "cell_type": "code",
   "execution_count": 2,
   "id": "c282c84d",
   "metadata": {},
   "outputs": [],
   "source": [
    "import numpy as np\n",
    "import matplotlib.pyplot as plt\n",
    "import skimage"
   ]
  },
  {
   "cell_type": "markdown",
   "id": "3fd2f975",
   "metadata": {},
   "source": [
    "## 0. Dataset utilisé pour la classification"
   ]
  },
  {
   "cell_type": "markdown",
   "id": "0c502067",
   "metadata": {},
   "source": [
    "Nous utiliserons la base d'images CIFAR-10 (https://www.cs.toronto.edu/~kriz/cifar.html) constituée de 60 000 images en couleur de taille 32x32 pixels, réparties en 10 classes (avion, voiture, oiseau, chat...). Le fichier est constitué de 5 batchs de 10000 images, et d'un batch de test de 10000 images.\n",
    "\n",
    "Nous implémentons les fonctions nécessaires à leur extraction"
   ]
  },
  {
   "cell_type": "code",
   "execution_count": 3,
   "id": "0928bbab",
   "metadata": {},
   "outputs": [],
   "source": [
    "path = \"./cifar-10-python/cifar-10-batches-py\"\n",
    "\n",
    "def unpickle(file):\n",
    "    import pickle\n",
    "\n",
    "    with open(file, \"rb\") as fo:\n",
    "        dict = pickle.load(fo, encoding=\"bytes\")\n",
    "    return dict\n",
    "    # Clés : [b'batch_label', b'labels', b'data', b'filenames']\n",
    "    \n",
    "\n",
    "def lecture_cifar(path: str, nb_batches):\n",
    "    X = np.zeros(((nb_batches + 1) * 10000, 3072))\n",
    "    Y = np.zeros(((nb_batches + 1) * 10000))\n",
    "    for i in range(1, nb_batches + 1):\n",
    "        batch_path = f\"{path}/data_batch_{str(i)}\"\n",
    "        new_dict = unpickle(batch_path)\n",
    "        batch_array = new_dict[b\"data\"]\n",
    "        batch_labels = new_dict[b\"labels\"]\n",
    "        X[(i - 1) * 10000 : i * 10000, :] = batch_array\n",
    "        Y[(i - 1) * 10000 : i * 10000] = batch_labels\n",
    "\n",
    "    new_dict = unpickle(f\"{path}/test_batch\")\n",
    "    batch_array = new_dict[b\"data\"]\n",
    "    batch_labels = new_dict[b\"labels\"]\n",
    "    X[nb_batches * 10000 : (nb_batches + 1) * 10000, :] = batch_array\n",
    "    Y[nb_batches * 10000 : (nb_batches + 1) * 10000] = batch_labels\n",
    "\n",
    "    X = np.float32(X)\n",
    "    Y = Y.astype(int)\n",
    "\n",
    "    return X, Y"
   ]
  },
  {
   "cell_type": "markdown",
   "id": "68829530",
   "metadata": {},
   "source": [
    "Ici, nous avons extrait les images dans des vecteurs de taille M = 32x32x3 = 3072, et nous les avons placées dans une matrice X de taille NxM avec N = 60 000. Nous retournons également un vecteur Y de taille Nx1 contenant le label de la classe de chaque image.\n",
    "\n",
    "Nous implémentons maintenant une fonction permettant de découper les données en un set d'entraînement et un set de test. Nous avons la possibilité de choisir le ratio `taille_entrainement/taille_totale` et le booléen `small_sample` peut être passé à `True` pour ne prendre qu'un sous ensemble des images totales (permettant de prototyper plus rapidement les algorithmes)."
   ]
  },
  {
   "cell_type": "code",
   "execution_count": 4,
   "id": "ae11dbfb",
   "metadata": {},
   "outputs": [],
   "source": [
    "def decoupage_donnees(X, Y, ratio=0.8, small_sample=False):\n",
    "    N = X.shape[0]\n",
    "    indices = np.array(range(N))\n",
    "    np.random.shuffle(indices)\n",
    "\n",
    "    if small_sample:\n",
    "        X_train = X[indices[:500], :]\n",
    "        Y_train = Y[indices[:500]]\n",
    "\n",
    "        X_test = X[indices[-100:], :]\n",
    "        Y_test = Y[indices[-100:]]\n",
    "\n",
    "        return X_train, Y_train, X_test, Y_test\n",
    "\n",
    "    M = int(ratio * N)\n",
    "    X_train = X[indices[:M], :]\n",
    "    Y_train = Y[indices[:M]]\n",
    "\n",
    "    X_test = X[indices[M:], :]\n",
    "    Y_test = Y[indices[M:]]\n",
    "\n",
    "    return X_train, Y_train, X_test, Y_test"
   ]
  },
  {
   "cell_type": "markdown",
   "id": "2cc98b40",
   "metadata": {},
   "source": [
    "Nous extrayons les images et nous les découpons en allouant 80% des images à l'entrainement et 20% au test."
   ]
  },
  {
   "cell_type": "code",
   "execution_count": 5,
   "id": "ecc21514",
   "metadata": {
    "scrolled": true
   },
   "outputs": [
    {
     "name": "stdout",
     "output_type": "stream",
     "text": [
      "LABELS : [b'airplane', b'automobile', b'bird', b'cat', b'deer', b'dog', b'frog', b'horse', b'ship', b'truck']\n",
      "Dim X : (60000, 3072)\n",
      "Dim Y : (60000,)\n"
     ]
    }
   ],
   "source": [
    "label_dict = unpickle(f\"{path}/batches.meta\")\n",
    "label_names = label_dict[b\"label_names\"]\n",
    "\n",
    "X, Y = lecture_cifar(path=path, nb_batches=5)\n",
    "X_train, Y_train, X_test, Y_test = decoupage_donnees(\n",
    "    X, Y, ratio=0.8, small_sample=True\n",
    ")\n",
    "\n",
    "print(f\"LABELS : {label_names}\")\n",
    "print(f\"Dim X : {X.shape}\")\n",
    "print(f\"Dim Y : {Y.shape}\")"
   ]
  },
  {
   "cell_type": "markdown",
   "id": "4081ca50",
   "metadata": {},
   "source": [
    "**Visualisation des images**"
   ]
  },
  {
   "cell_type": "code",
   "execution_count": 6,
   "id": "d3ccfd76",
   "metadata": {
    "scrolled": false
   },
   "outputs": [
    {
     "data": {
      "image/png": "[encoded data removed]",
      "text/plain": [
       "<Figure size 720x720 with 16 Axes>"
      ]
     },
     "metadata": {},
     "output_type": "display_data"
    }
   ],
   "source": [
    "data_batch_1 = unpickle(f\"{path}/data_batch_1\")\n",
    "imageId = [10*i for i in range(16)]\n",
    "images = data_batch_1[b'data']\n",
    "images = images[imageId]\n",
    "labels = [data_batch_1[b'labels'][i] for i in imageId]\n",
    "\n",
    "def visualisation_images(images, labels, gray=False):\n",
    "    if gray:\n",
    "        images = images.reshape(len(images),32,32)\n",
    "    else:\n",
    "        images = images.reshape(len(images),3,32,32).transpose(0,2,3,1)\n",
    "    rows, columns = 4, 4\n",
    "\n",
    "    # define figure\n",
    "    fig=plt.figure(figsize=(10, 10))\n",
    "    for i in range(1, columns*rows +1):\n",
    "        fig.add_subplot(rows, columns, i)\n",
    "        if gray:\n",
    "            plt.imshow(images[i-1], cmap=\"gray\")\n",
    "        else:\n",
    "            plt.imshow(images[i-1])\n",
    "        plt.xticks([])\n",
    "        plt.yticks([])\n",
    "        plt.title(\"{}\".format(label_names[labels[i-1]]))\n",
    "    plt.show()\n",
    "    \n",
    "visualisation_images(images, labels)"
   ]
  },
  {
   "cell_type": "markdown",
   "id": "4db4bf84",
   "metadata": {},
   "source": [
    "## 1. KPPV"
   ]
  },
  {
   "cell_type": "code",
   "execution_count": 7,
   "id": "49df67df",
   "metadata": {},
   "outputs": [],
   "source": [
    "X, Y = lecture_cifar(path=path, nb_batches=5)\n",
    "X_train, Y_train, X_test, Y_test = decoupage_donnees(\n",
    "    X, Y, ratio=0.8, small_sample=False\n",
    ")"
   ]
  },
  {
   "cell_type": "markdown",
   "id": "9b98dd16",
   "metadata": {},
   "source": [
    "### 1.1 Développement du classifieur"
   ]
  },
  {
   "cell_type": "markdown",
   "id": "4db082c9",
   "metadata": {},
   "source": [
    "#### Calcul de la matrice de distances"
   ]
  },
  {
   "cell_type": "markdown",
   "id": "9d278092",
   "metadata": {},
   "source": [
    "Nous écrivons une fonction `kppv_distances` prenant en argument X_test et X_train et renvoyant la matrice des distances entre toutes les données de l'ensemble de test par rapport à toutes les données de l'ensemble d'apprentissage. La distance euclidienne L2 sera utilisée pour évaluer la distance entre les données.\n",
    "\n",
    "Nous exploitons la vectorisation permise par le module numpy pour le calcul matriciel."
   ]
  },
  {
   "cell_type": "code",
   "execution_count": 8,
   "id": "fa5f2387",
   "metadata": {},
   "outputs": [],
   "source": [
    "def kppv_distances(X_train, X_test):\n",
    "    A_2 = (X_test ** 2).sum(axis=1).reshape((-1, 1))\n",
    "    B_2 = (X_train ** 2).sum(axis=1).reshape((1, -1))\n",
    "    dot_matrix = 2 * X_test.dot(X_train.T)\n",
    "    distance_matrix = A_2 + B_2 - dot_matrix\n",
    "    return distance_matrix"
   ]
  },
  {
   "cell_type": "markdown",
   "id": "7c995fec",
   "metadata": {},
   "source": [
    "Cette matrice de dimension `len(X_test) x len(X_train)`"
   ]
  },
  {
   "cell_type": "markdown",
   "id": "67023784",
   "metadata": {},
   "source": [
    "#### Prédiction d'un élément"
   ]
  },
  {
   "cell_type": "markdown",
   "id": "20ec025b",
   "metadata": {},
   "source": [
    "Pour prédire la classe d'un élément du set de test, nous cherchons, parmi tous les exemples d'entrainement les `K` ayant la distance la plus proche. Nous enregistrons les prédictions dans un vecteur `Y_pred` que nous allons ensuite comparer au vecteur `Y_test`."
   ]
  },
  {
   "cell_type": "code",
   "execution_count": 9,
   "id": "3aa46ffc",
   "metadata": {},
   "outputs": [],
   "source": [
    "def kppv_predict(distance_matrix, K, Y_train):\n",
    "    N = distance_matrix.shape[0]\n",
    "    Y_pred = np.zeros(N, dtype=int)\n",
    "    for test_index in range(N):\n",
    "        classes_kppv = Y_train[\n",
    "            distance_matrix[test_index, :].argsort()[:K]\n",
    "        ]\n",
    "        Y_pred[test_index] = np.argmax(np.bincount(classes_kppv))\n",
    "    return np.array(Y_pred)"
   ]
  },
  {
   "cell_type": "code",
   "execution_count": 58,
   "id": "4e6d9f9b",
   "metadata": {},
   "outputs": [],
   "source": [
    "K = 10\n",
    "distance_matrix = kppv_distances(X_train, X_test)\n",
    "Y_pred = kppv_predict(distance_matrix, K, Y_train)"
   ]
  },
  {
   "cell_type": "code",
   "execution_count": 10,
   "id": "2be48825",
   "metadata": {},
   "outputs": [],
   "source": [
    "def evaluation_classifieur(Y_pred,Y_test):\n",
    "    return np.sum(Y_test == Y_pred) / len(Y_test)"
   ]
  },
  {
   "cell_type": "code",
   "execution_count": 63,
   "id": "d55eec07",
   "metadata": {},
   "outputs": [
    {
     "name": "stdout",
     "output_type": "stream",
     "text": [
      "Accuracy : 0.33508333333333334% for 10 classes\n"
     ]
    }
   ],
   "source": [
    "accuracy = evaluation_classifieur(Y_pred, Y_test)\n",
    "\n",
    "print(f\"Accuracy : {accuracy}% for {K} classes\")"
   ]
  },
  {
   "cell_type": "markdown",
   "id": "aa346af4",
   "metadata": {},
   "source": [
    "### 1.2 Expérimentations"
   ]
  },
  {
   "cell_type": "markdown",
   "id": "fb3310e1",
   "metadata": {},
   "source": [
    "#### 1.2.1 Influence du nombre de voisins K"
   ]
  },
  {
   "cell_type": "code",
   "execution_count": 11,
   "id": "4b370a01",
   "metadata": {
    "scrolled": true
   },
   "outputs": [
    {
     "name": "stdout",
     "output_type": "stream",
     "text": [
      "Computing 1 neighbors\n",
      "1 neighbors done\n",
      "\n",
      "Computing 2 neighbors\n",
      "2 neighbors done\n",
      "\n",
      "Computing 3 neighbors\n",
      "3 neighbors done\n",
      "\n",
      "Computing 4 neighbors\n",
      "4 neighbors done\n",
      "\n",
      "Computing 5 neighbors\n",
      "5 neighbors done\n",
      "\n",
      "Computing 6 neighbors\n",
      "6 neighbors done\n",
      "\n",
      "Computing 7 neighbors\n",
      "7 neighbors done\n",
      "\n",
      "Computing 8 neighbors\n",
      "8 neighbors done\n",
      "\n",
      "Computing 9 neighbors\n",
      "9 neighbors done\n",
      "\n",
      "Computing 10 neighbors\n",
      "10 neighbors done\n",
      "\n",
      "Computing 11 neighbors\n",
      "11 neighbors done\n",
      "\n",
      "Computing 12 neighbors\n",
      "12 neighbors done\n",
      "\n",
      "Computing 13 neighbors\n",
      "13 neighbors done\n",
      "\n",
      "Computing 14 neighbors\n",
      "14 neighbors done\n",
      "\n"
     ]
    },
    {
     "data": {
      "text/plain": [
       "Text(0, 0.5, 'Accuracy')"
      ]
     },
     "execution_count": 11,
     "metadata": {},
     "output_type": "execute_result"
    },
    {
     "data": {
      "image/png": "[encoded data removed]",
      "text/plain": [
       "<Figure size 432x288 with 1 Axes>"
      ]
     },
     "metadata": {
      "needs_background": "light"
     },
     "output_type": "display_data"
    }
   ],
   "source": [
    "accuracy_list = []\n",
    "x = range(1,15)\n",
    "for K in x:\n",
    "    print(f\"Computing {K} neighbors\")\n",
    "    distance_matrix = kppv_distances(X_train, X_test)\n",
    "    Y_pred = kppv_predict(distance_matrix, K, Y_train)\n",
    "    accuracy_list.append(evaluation_classifieur(Y_pred,Y_test))\n",
    "    print(f\"{K} neighbors done\\n\")\n",
    "    \n",
    "plt.plot(x, accuracy_list, \"o-\")\n",
    "plt.xlabel(\"K\")\n",
    "plt.ylabel(\"Accuracy\")"
   ]
  },
  {
   "cell_type": "code",
   "execution_count": 17,
   "id": "75c56179",
   "metadata": {},
   "outputs": [
    {
     "data": {
      "text/plain": [
       "0.33897619047619054"
      ]
     },
     "execution_count": 17,
     "metadata": {},
     "output_type": "execute_result"
    }
   ],
   "source": [
    "np.mean(accuracy_list)"
   ]
  },
  {
   "cell_type": "markdown",
   "id": "d9ec6104",
   "metadata": {},
   "source": [
    "Nous obtenons donc une valeur optimale pour K=1 avec un taux de classification de 34,7%, pour un algorithme entraîné sur 80% du dataset complet, et une deuxième valeur maximale à 34,2% pour K=7.\n",
    "En moyenne la taux de classification sur l'ensemble des K pris entre 1 et 14 est de 33,9 %."
   ]
  },
  {
   "cell_type": "markdown",
   "id": "139fb547",
   "metadata": {},
   "source": [
    "#### 1.2.2 Utilisation de descripteurs LBP (Local Binary Pattern)"
   ]
  },
  {
   "cell_type": "markdown",
   "id": "6a4e85a0",
   "metadata": {},
   "source": [
    "Afin d'accélérer le calcul des KPPV, nous utilisons des descripteurs des images. L'objectif est de réduire la taille des éléments à comparer afin de réduire la mémoire utilisée lors du calcul.\n",
    "\n",
    "Nous utilisons ici des descripteurs LBP (après conversion des images en RGB). L'idée est, pour chaque pixel, de regarder les 8 pixels du voisinage et d'observer lesquels ont une valeur supérieure ou inférieure au pixel central. Nous attribuons au pixel central une valeur dépendant des pixels alentours et comptons la fréquence de ces valeurs (ici entre 0 et 9 dans l'implémentation scikit-image où nous avons choisi une méthode de calcul du pattern invariante par rotation `uniform`).\n",
    "\n",
    "Ces valeurs entre 0 et 9 sont ensuite placées dans un histogramme de 10 bins constituant la description de l'image. Nous avons donc réduit la taille de nos données de 3072 à 10."
   ]
  },
  {
   "cell_type": "code",
   "execution_count": 155,
   "id": "89c62fd5",
   "metadata": {
    "scrolled": true
   },
   "outputs": [
    {
     "name": "stderr",
     "output_type": "stream",
     "text": [
      "/var/folders/rx/rfnf3b4d7l5_2w7ptp3y3_740000gn/T/ipykernel_32501/404480455.py:20: VisibleDeprecationWarning: Passing `normed=True` on non-uniform bins has always been broken, and computes neither the probability density function nor the probability mass function. The result is only correct if the bins are uniform, when density=True will produce the same result anyway. The argument will be removed in a future version of numpy.\n",
      "  his, _ = np.histogram(lbp,normed=True, bins=nb_points+2, range=(0, nb_points+2))\n"
     ]
    }
   ],
   "source": [
    "from skimage.feature import local_binary_pattern\n",
    "from skimage.color import rgb2gray\n",
    "\n",
    "def convert_to_LBP(X):\n",
    "    method = 'uniform'\n",
    "    radius = 1\n",
    "    nb_points = 8 * radius\n",
    "    X_hist = []\n",
    "    X_lbp = []\n",
    "    X_gray = []\n",
    "    for x in X:\n",
    "        #convert to gray\n",
    "        R = x[0:1024].reshape(32,32)\n",
    "        G = x[1024:2048].reshape(32,32)\n",
    "        B = x[2048:].reshape(32,32)\n",
    "        img = np.dstack((R,G,B))\n",
    "        grayscale = rgb2gray(img)\n",
    "        X_gray.append(grayscale)\n",
    "        \n",
    "        lbp = local_binary_pattern(grayscale, nb_points, radius, method)  \n",
    "        his, _ = np.histogram(lbp,normed=True, bins=nb_points+2, range=(0, nb_points+2))\n",
    "        X_hist.append(his)\n",
    "        X_lbp.append(lbp)\n",
    "    return np.array(X_hist), np.array(X_lbp), np.array(X_gray)\n",
    "\n",
    "X_train_hist, X_train_lbp, X_train_gray = convert_to_LBP(X_train)\n",
    "X_test_hist, X_test_lbp, X_test_gray = convert_to_LBP(X_test)"
   ]
  },
  {
   "cell_type": "code",
   "execution_count": 199,
   "id": "8b420bb4",
   "metadata": {},
   "outputs": [
    {
     "data": {
      "text/plain": [
       "(12000, 10)"
      ]
     },
     "execution_count": 199,
     "metadata": {},
     "output_type": "execute_result"
    }
   ],
   "source": [
    "X_test_hist.shape"
   ]
  },
  {
   "cell_type": "code",
   "execution_count": 152,
   "id": "af23d1b8",
   "metadata": {},
   "outputs": [
    {
     "data": {
      "image/png": "[encoded data removed]",
      "text/plain": [
       "<Figure size 720x720 with 16 Axes>"
      ]
     },
     "metadata": {},
     "output_type": "display_data"
    }
   ],
   "source": [
    "visualisation_images(X_lbp[imageId],labels, gray=True)"
   ]
  },
  {
   "cell_type": "code",
   "execution_count": 177,
   "id": "87d5438c",
   "metadata": {
    "scrolled": true
   },
   "outputs": [
    {
     "name": "stdout",
     "output_type": "stream",
     "text": [
      "Computing 1 neighbors\n",
      "1 neighbors done\n",
      "\n",
      "Computing 2 neighbors\n",
      "2 neighbors done\n",
      "\n",
      "Computing 3 neighbors\n",
      "3 neighbors done\n",
      "\n",
      "Computing 4 neighbors\n",
      "4 neighbors done\n",
      "\n",
      "Computing 5 neighbors\n",
      "5 neighbors done\n",
      "\n",
      "Computing 6 neighbors\n",
      "6 neighbors done\n",
      "\n",
      "Computing 7 neighbors\n",
      "7 neighbors done\n",
      "\n",
      "Computing 8 neighbors\n",
      "8 neighbors done\n",
      "\n",
      "Computing 9 neighbors\n",
      "9 neighbors done\n",
      "\n",
      "Computing 10 neighbors\n",
      "10 neighbors done\n",
      "\n",
      "Computing 11 neighbors\n",
      "11 neighbors done\n",
      "\n",
      "Computing 12 neighbors\n",
      "12 neighbors done\n",
      "\n",
      "Computing 13 neighbors\n",
      "13 neighbors done\n",
      "\n",
      "Computing 14 neighbors\n",
      "14 neighbors done\n",
      "\n",
      "Computing 15 neighbors\n",
      "15 neighbors done\n",
      "\n",
      "Computing 16 neighbors\n",
      "16 neighbors done\n",
      "\n",
      "Computing 17 neighbors\n",
      "17 neighbors done\n",
      "\n",
      "Computing 18 neighbors\n",
      "18 neighbors done\n",
      "\n",
      "Computing 19 neighbors\n",
      "19 neighbors done\n",
      "\n",
      "Computing 20 neighbors\n",
      "20 neighbors done\n",
      "\n",
      "Computing 21 neighbors\n",
      "21 neighbors done\n",
      "\n",
      "Computing 22 neighbors\n",
      "22 neighbors done\n",
      "\n",
      "Computing 23 neighbors\n",
      "23 neighbors done\n",
      "\n",
      "Computing 24 neighbors\n",
      "24 neighbors done\n",
      "\n",
      "Computing 25 neighbors\n",
      "25 neighbors done\n",
      "\n",
      "Computing 26 neighbors\n",
      "26 neighbors done\n",
      "\n",
      "Computing 27 neighbors\n",
      "27 neighbors done\n",
      "\n",
      "Computing 28 neighbors\n",
      "28 neighbors done\n",
      "\n",
      "Computing 29 neighbors\n",
      "29 neighbors done\n",
      "\n"
     ]
    },
    {
     "data": {
      "text/plain": [
       "Text(0, 0.5, 'Accuracy')"
      ]
     },
     "execution_count": 177,
     "metadata": {},
     "output_type": "execute_result"
    },
    {
     "data": {
      "image/png": "[encoded data removed]",
      "text/plain": [
       "<Figure size 432x288 with 1 Axes>"
      ]
     },
     "metadata": {
      "needs_background": "light"
     },
     "output_type": "display_data"
    }
   ],
   "source": [
    "accuracy_list = []\n",
    "x = range(1,30)\n",
    "for K in x:\n",
    "    print(f\"Computing {K} neighbors\")\n",
    "    distance_matrix = kppv_distances(X_train_hist, X_test_hist)\n",
    "    Y_pred = kppv_predict(distance_matrix, K, Y_train)\n",
    "    accuracy_list.append(evaluation_classifieur(Y_pred,Y_test))\n",
    "    print(f\"{K} neighbors done\\n\")\n",
    "    \n",
    "plt.plot(x, accuracy_list, \"o-\")\n",
    "plt.xlabel(\"K\")\n",
    "plt.ylabel(\"Accuracy\")"
   ]
  },
  {
   "cell_type": "code",
   "execution_count": 200,
   "id": "a12774c9",
   "metadata": {
    "scrolled": true
   },
   "outputs": [
    {
     "name": "stdout",
     "output_type": "stream",
     "text": [
      "Computing 1 neighbors\n",
      "1 neighbors done\n",
      "\n",
      "Computing 51 neighbors\n",
      "51 neighbors done\n",
      "\n",
      "Computing 101 neighbors\n",
      "101 neighbors done\n",
      "\n",
      "Computing 151 neighbors\n",
      "151 neighbors done\n",
      "\n",
      "Computing 201 neighbors\n",
      "201 neighbors done\n",
      "\n",
      "Computing 251 neighbors\n",
      "251 neighbors done\n",
      "\n",
      "Computing 301 neighbors\n",
      "301 neighbors done\n",
      "\n",
      "Computing 351 neighbors\n",
      "351 neighbors done\n",
      "\n",
      "Computing 401 neighbors\n",
      "401 neighbors done\n",
      "\n",
      "Computing 451 neighbors\n",
      "451 neighbors done\n",
      "\n",
      "Computing 501 neighbors\n",
      "501 neighbors done\n",
      "\n"
     ]
    },
    {
     "data": {
      "text/plain": [
       "Text(0, 0.5, 'Accuracy')"
      ]
     },
     "execution_count": 200,
     "metadata": {},
     "output_type": "execute_result"
    },
    {
     "data": {
      "image/png": "[encoded data removed]",
      "text/plain": [
       "<Figure size 432x288 with 1 Axes>"
      ]
     },
     "metadata": {
      "needs_background": "light"
     },
     "output_type": "display_data"
    }
   ],
   "source": [
    "accuracy_list = []\n",
    "x = range(1,502,50)\n",
    "for K in x:\n",
    "    print(f\"Computing {K} neighbors\")\n",
    "    distance_matrix = kppv_distances(X_train_hist, X_test_hist)\n",
    "    Y_pred = kppv_predict(distance_matrix, K, Y_train)\n",
    "    accuracy_list.append(evaluation_classifieur(Y_pred,Y_test))\n",
    "    print(f\"{K} neighbors done\\n\")\n",
    "    \n",
    "plt.plot(x, accuracy_list, \"o-\")\n",
    "plt.xlabel(\"K\")\n",
    "plt.ylabel(\"Accuracy\")"
   ]
  },
  {
   "cell_type": "markdown",
   "id": "1113bbbf",
   "metadata": {},
   "source": [
    "Nous observons, en entraînant l'algorithme sur les descripteurs LBP, que le K optimal augmente énormément, avec le taux de classification qui atteint un maximum à 29% pour environ K = 250. La précision du classifieur est plus basse qu'avec l'utilisation des images brutes. Ce type de transformation n'est donc probablement pas le plus adapté.\n",
    "\n",
    "Nous trouvons de plus que cette valeur de K est trop élevée vu la qualité des images et la simplicité des opérations que nous effectuons dessus (norme L2). Cela est donc probablement dû à la réduction trop importante du nombre de features des images."
   ]
  },
  {
   "cell_type": "markdown",
   "id": "77f19963",
   "metadata": {},
   "source": [
    "#### 1.2.3 Utilisation de descripteurs HOG (Histograms of Oriented Gradients)"
   ]
  },
  {
   "cell_type": "markdown",
   "id": "123d7555",
   "metadata": {},
   "source": [
    "Nous allons désormais utiliser les descripteurs HOG pour représenter les images. Cela consiste à calculer pour chaque pixel le gradient local, au moyen des pixels présents autour. Pour cela, nous calculons le gradient horizontal et vertical. dans des cellules constituées de plusieurs pixels de l'image. Pour chaque pixel de la cellule nous calculons l'orientation et la magnitude du gradient puis nous construisons un histogramme en plaçant la magnitude dans les bins correspondant à l'orientation.\n",
    "\n",
    "Nous quadrillons ici l'image en 16 cellules où 8 orientations seront calculées. Nous devrions donc obtenir des descripteurs de taille 128."
   ]
  },
  {
   "cell_type": "code",
   "execution_count": 84,
   "id": "ad74b678",
   "metadata": {},
   "outputs": [],
   "source": [
    "from skimage.feature import hog\n",
    "\n",
    "def convert_to_HOG(X):\n",
    "    normalize = True                     \n",
    "    block_norm = 'L2-Hys'     \n",
    "    orientations = 8           \n",
    "    pixels_per_cell = [8, 8]  \n",
    "    cells_per_block = [1, 1]\n",
    "    X_hog = []\n",
    "    X_fd = []\n",
    "    \n",
    "    for x in X:\n",
    "        R = x[0:1024].reshape(32,32)\n",
    "        G = x[1024:2048].reshape(32,32)\n",
    "        B = x[2048:].reshape(32,32)\n",
    "        img = np.dstack((R,G,B))\n",
    "        fd, hog_image = hog(img, orientations, pixels_per_cell,cells_per_block,block_norm, visualize=True,multichannel=True)\n",
    "        X_hog.append(hog_image)\n",
    "        X_fd.append(fd)\n",
    "    return np.array(X_hog), np.array(X_fd)"
   ]
  },
  {
   "cell_type": "code",
   "execution_count": null,
   "id": "6e2ab9cb",
   "metadata": {},
   "outputs": [],
   "source": [
    "X_train_hog_image, X_train_hog = convert_to_HOG(X_train)\n",
    "X_test_hog_image, X_test_hog = convert_to_HOG(X_test)"
   ]
  },
  {
   "cell_type": "code",
   "execution_count": 240,
   "id": "c369e6f0",
   "metadata": {},
   "outputs": [
    {
     "data": {
      "text/plain": [
       "(128,)"
      ]
     },
     "execution_count": 240,
     "metadata": {},
     "output_type": "execute_result"
    }
   ],
   "source": [
    "X_train_hog[0].shape"
   ]
  },
  {
   "cell_type": "markdown",
   "id": "ecf93806",
   "metadata": {},
   "source": [
    "Nous avons obtenu des descripteurs de taille 128 au lieu de 3072. Nous devons désormais tester le taux de classification sur différentes valeurs de K pour un matrice de distance calculée sur les descripteurs."
   ]
  },
  {
   "cell_type": "markdown",
   "id": "91406f20",
   "metadata": {},
   "source": [
    "##### Visualisation des HOG"
   ]
  },
  {
   "cell_type": "code",
   "execution_count": 257,
   "id": "d63d9f71",
   "metadata": {},
   "outputs": [
    {
     "data": {
      "image/png": "[encoded data removed]",
      "text/plain": [
       "<Figure size 576x288 with 2 Axes>"
      ]
     },
     "metadata": {
      "needs_background": "light"
     },
     "output_type": "display_data"
    }
   ],
   "source": [
    "from skimage import exposure\n",
    "\n",
    "fig, (ax1, ax2) = plt.subplots(1, 2, figsize=(8, 4), sharex=True, sharey=True)\n",
    "\n",
    "input_image = X_train[22].reshape(3,32,32).transpose(1,2,0)/255\n",
    "\n",
    "ax1.axis('off')\n",
    "ax1.imshow(input_image, cmap=plt.cm.gray)\n",
    "ax1.set_title('Input image')\n",
    "\n",
    "# Rescale histogram for better display\n",
    "hog_image_rescaled = exposure.rescale_intensity(X_train_hog_image[0], in_range=(0, 10))\n",
    "\n",
    "ax2.axis('off')\n",
    "ax2.imshow(X_train_hog_image[22], cmap=plt.cm.gray)\n",
    "ax2.set_title('Histogram of Oriented Gradients')\n",
    "plt.show()"
   ]
  },
  {
   "cell_type": "markdown",
   "id": "289ca410",
   "metadata": {},
   "source": [
    "Nous constatons que les descripteurs HOG représentent assez fidèlement l'orientation des motifs de l'image initiale"
   ]
  },
  {
   "cell_type": "code",
   "execution_count": 258,
   "id": "a6d78a62",
   "metadata": {
    "scrolled": true
   },
   "outputs": [
    {
     "name": "stdout",
     "output_type": "stream",
     "text": [
      "Computing 1 neighbors\n",
      "1 neighbors done\n",
      "\n",
      "Computing 3 neighbors\n",
      "3 neighbors done\n",
      "\n",
      "Computing 5 neighbors\n",
      "5 neighbors done\n",
      "\n",
      "Computing 7 neighbors\n",
      "7 neighbors done\n",
      "\n",
      "Computing 9 neighbors\n",
      "9 neighbors done\n",
      "\n",
      "Computing 11 neighbors\n",
      "11 neighbors done\n",
      "\n",
      "Computing 13 neighbors\n",
      "13 neighbors done\n",
      "\n",
      "Computing 15 neighbors\n",
      "15 neighbors done\n",
      "\n",
      "Computing 17 neighbors\n",
      "17 neighbors done\n",
      "\n",
      "Computing 19 neighbors\n",
      "19 neighbors done\n",
      "\n",
      "Computing 21 neighbors\n",
      "21 neighbors done\n",
      "\n",
      "Computing 23 neighbors\n",
      "23 neighbors done\n",
      "\n",
      "Computing 25 neighbors\n",
      "25 neighbors done\n",
      "\n",
      "Computing 27 neighbors\n",
      "27 neighbors done\n",
      "\n",
      "Computing 29 neighbors\n",
      "29 neighbors done\n",
      "\n"
     ]
    },
    {
     "data": {
      "text/plain": [
       "Text(0, 0.5, 'Accuracy')"
      ]
     },
     "execution_count": 258,
     "metadata": {},
     "output_type": "execute_result"
    },
    {
     "data": {
      "image/png": "[encoded data removed]",
      "text/plain": [
       "<Figure size 432x288 with 1 Axes>"
      ]
     },
     "metadata": {
      "needs_background": "light"
     },
     "output_type": "display_data"
    }
   ],
   "source": [
    "accuracy_list = []\n",
    "x = range(1,30,2)\n",
    "for K in x:\n",
    "    print(f\"Computing {K} neighbors\")\n",
    "    distance_matrix = kppv_distances(X_train_hog, X_test_hog)\n",
    "    Y_pred = kppv_predict(distance_matrix, K, Y_train)\n",
    "    accuracy_list.append(evaluation_classifieur(Y_pred,Y_test))\n",
    "    print(f\"{K} neighbors done\\n\")\n",
    "    \n",
    "plt.plot(x, accuracy_list, \"o-\")\n",
    "plt.xlabel(\"K\")\n",
    "plt.ylabel(\"Accuracy\")"
   ]
  },
  {
   "cell_type": "markdown",
   "id": "1b83a8df",
   "metadata": {},
   "source": [
    "Nous observons ici que le meilleur taux de classification (34,8%) est obtenu pour K=13 ce qui est assez proche des résultats obtenus avec les images brutes. Nous obtenons de plus une accuracy sensiblement du même ordre de grandeur qu'avec les images. L'utilisation des descripteurs semble convenir pour cette classification."
   ]
  },
  {
   "cell_type": "markdown",
   "id": "de1e9804",
   "metadata": {},
   "source": [
    "#### 1.2.4 Validation croisée à N répertoires"
   ]
  },
  {
   "cell_type": "markdown",
   "id": "e8325396",
   "metadata": {},
   "source": [
    "Nous allons ici utiliser la n-fold cross-validation pour tester nos données. Cette méthode permet d'éviter de tomber sur un cas particulier où le set de test serait trop similaire à une partie des données d'apprentissage. Nous découpons d'abord l'ensemble des données en N jeux. Puis nous effectuons un apprentissage avec N-1 jeux et évaluons notre taux de classification avec le jeu restant. Nous réitérons cette opération N fois en changeant à chaque fois le jeu de test utilisé. Cela permet à la fin de moyenner le taux de classification du classifieur qui aura vu N fois des nouvelles données pour le test."
   ]
  },
  {
   "cell_type": "code",
   "execution_count": 85,
   "id": "39a54d17",
   "metadata": {},
   "outputs": [],
   "source": [
    "def cross_validation(X,Y,nb_folds,K,verbose=False, hog=False): \n",
    "    K_list = [k for k in range(1,K+1)]\n",
    "    X_train, Y_train, X_test, Y_test = decoupage_donnees(X,Y,ratio=0.8)\n",
    "    \n",
    "    if hog:\n",
    "        _, X_train = convert_to_HOG(X_train)\n",
    "        _, X_test = convert_to_HOG(X_test)\n",
    "\n",
    "    X_train_folds = []\n",
    "    Y_train_folds = []\n",
    "\n",
    "    X_train_folds = np.array_split(X_train,nb_folds)\n",
    "    Y_train_folds = np.array_split(Y_train,nb_folds)\n",
    "    k_vs_accuracy_dict = {}\n",
    "\n",
    "    for k in K_list:\n",
    "        if verbose:\n",
    "            print(f\"***** K={k} *****\")\n",
    "        k_vs_accuracy_dict[k] = []\n",
    "        for val_fold_index in range(0,nb_folds):\n",
    "            X_val = X_train_folds[val_fold_index]\n",
    "            Y_val = Y_train_folds[val_fold_index]\n",
    "            X_train2 = X_train_folds\n",
    "            Y_train2 = Y_train_folds\n",
    "            \n",
    "            X_train2 = np.delete(X_train2,val_fold_index,0)\n",
    "            X_train2 = np.concatenate((X_train2),axis = 0)\n",
    "            Y_train2 = np.delete(Y_train2,val_fold_index,0)\n",
    "            Y_train2 = np.concatenate((Y_train2),axis = 0)\n",
    "            \n",
    "            distance_matrix = kppv_distances(X_train2,X_val)\n",
    "            Y_pred2 = kppv_predict(distance_matrix,k,Y_train2)\n",
    "            accuracy = evaluation_classifieur(Y_pred2,Y_val)\n",
    "            \n",
    "            k_vs_accuracy_dict[k].append(accuracy)\n",
    "            \n",
    "            if verbose:\n",
    "                print(f\"{val_fold_index+1}/{nb_folds} fold accuracy : {accuracy}\")\n",
    "        \n",
    "        if verbose:\n",
    "            print(f\"Mean accuracy : {np.mean(k_vs_accuracy_dict[k])}\\n\")\n",
    "    return k_vs_accuracy_dict, X_train, Y_train, X_test, Y_test"
   ]
  },
  {
   "cell_type": "code",
   "execution_count": 69,
   "id": "4acd8224",
   "metadata": {
    "scrolled": false
   },
   "outputs": [
    {
     "name": "stdout",
     "output_type": "stream",
     "text": [
      "***** K=1 *****\n",
      "1/5 fold accuracy : 0.3380208333333333\n",
      "2/5 fold accuracy : 0.3328125\n",
      "3/5 fold accuracy : 0.3425\n",
      "4/5 fold accuracy : 0.3315625\n",
      "5/5 fold accuracy : 0.3492708333333333\n",
      "Mean accuracy : 0.3388333333333334\n",
      "\n",
      "***** K=2 *****\n",
      "1/5 fold accuracy : 0.30416666666666664\n",
      "2/5 fold accuracy : 0.2966666666666667\n",
      "3/5 fold accuracy : 0.30072916666666666\n",
      "4/5 fold accuracy : 0.2990625\n",
      "5/5 fold accuracy : 0.30635416666666665\n",
      "Mean accuracy : 0.30139583333333336\n",
      "\n",
      "***** K=3 *****\n",
      "1/5 fold accuracy : 0.32427083333333334\n",
      "2/5 fold accuracy : 0.318125\n",
      "3/5 fold accuracy : 0.32114583333333335\n",
      "4/5 fold accuracy : 0.31833333333333336\n",
      "5/5 fold accuracy : 0.32885416666666667\n",
      "Mean accuracy : 0.3221458333333333\n",
      "\n",
      "***** K=4 *****\n",
      "1/5 fold accuracy : 0.32916666666666666\n",
      "2/5 fold accuracy : 0.32635416666666667\n",
      "3/5 fold accuracy : 0.32458333333333333\n",
      "4/5 fold accuracy : 0.3228125\n",
      "5/5 fold accuracy : 0.33458333333333334\n",
      "Mean accuracy : 0.3275\n",
      "\n",
      "***** K=5 *****\n",
      "1/5 fold accuracy : 0.3332291666666667\n",
      "2/5 fold accuracy : 0.32489583333333333\n",
      "3/5 fold accuracy : 0.328125\n",
      "4/5 fold accuracy : 0.32760416666666664\n",
      "5/5 fold accuracy : 0.33760416666666665\n",
      "Mean accuracy : 0.3302916666666667\n",
      "\n",
      "***** K=6 *****\n",
      "1/5 fold accuracy : 0.33\n",
      "2/5 fold accuracy : 0.3277083333333333\n",
      "3/5 fold accuracy : 0.32083333333333336\n",
      "4/5 fold accuracy : 0.32947916666666666\n",
      "5/5 fold accuracy : 0.3411458333333333\n",
      "Mean accuracy : 0.3298333333333333\n",
      "\n",
      "***** K=7 *****\n",
      "1/5 fold accuracy : 0.3308333333333333\n",
      "2/5 fold accuracy : 0.32427083333333334\n",
      "3/5 fold accuracy : 0.3228125\n",
      "4/5 fold accuracy : 0.3310416666666667\n",
      "5/5 fold accuracy : 0.34041666666666665\n",
      "Mean accuracy : 0.329875\n",
      "\n",
      "***** K=8 *****\n",
      "1/5 fold accuracy : 0.32979166666666665\n",
      "2/5 fold accuracy : 0.3246875\n",
      "3/5 fold accuracy : 0.31875\n",
      "4/5 fold accuracy : 0.33239583333333333\n",
      "5/5 fold accuracy : 0.33916666666666667\n",
      "Mean accuracy : 0.32895833333333335\n",
      "\n",
      "***** K=9 *****\n",
      "1/5 fold accuracy : 0.33135416666666667\n",
      "2/5 fold accuracy : 0.32760416666666664\n",
      "3/5 fold accuracy : 0.32385416666666667\n",
      "4/5 fold accuracy : 0.3336458333333333\n",
      "5/5 fold accuracy : 0.3407291666666667\n",
      "Mean accuracy : 0.3314375\n",
      "\n",
      "***** K=10 *****\n",
      "1/5 fold accuracy : 0.330625\n",
      "2/5 fold accuracy : 0.32708333333333334\n",
      "3/5 fold accuracy : 0.3259375\n",
      "4/5 fold accuracy : 0.33427083333333335\n",
      "5/5 fold accuracy : 0.34177083333333336\n",
      "Mean accuracy : 0.3319375\n",
      "\n",
      "***** K=11 *****\n",
      "1/5 fold accuracy : 0.329375\n",
      "2/5 fold accuracy : 0.3279166666666667\n",
      "3/5 fold accuracy : 0.3277083333333333\n",
      "4/5 fold accuracy : 0.33260416666666665\n",
      "5/5 fold accuracy : 0.3365625\n",
      "Mean accuracy : 0.33083333333333326\n",
      "\n",
      "***** K=12 *****\n",
      "1/5 fold accuracy : 0.3309375\n",
      "2/5 fold accuracy : 0.3278125\n",
      "3/5 fold accuracy : 0.32625\n",
      "4/5 fold accuracy : 0.3308333333333333\n",
      "5/5 fold accuracy : 0.34041666666666665\n",
      "Mean accuracy : 0.33124999999999993\n",
      "\n",
      "***** K=13 *****\n",
      "1/5 fold accuracy : 0.329375\n",
      "2/5 fold accuracy : 0.3227083333333333\n",
      "3/5 fold accuracy : 0.32364583333333335\n",
      "4/5 fold accuracy : 0.32760416666666664\n",
      "5/5 fold accuracy : 0.33260416666666665\n",
      "Mean accuracy : 0.3271875\n",
      "\n",
      "***** K=14 *****\n",
      "1/5 fold accuracy : 0.33145833333333335\n",
      "2/5 fold accuracy : 0.3240625\n",
      "3/5 fold accuracy : 0.3230208333333333\n",
      "4/5 fold accuracy : 0.3284375\n",
      "5/5 fold accuracy : 0.3353125\n",
      "Mean accuracy : 0.3284583333333333\n",
      "\n",
      "***** K=15 *****\n",
      "1/5 fold accuracy : 0.3308333333333333\n",
      "2/5 fold accuracy : 0.319375\n",
      "3/5 fold accuracy : 0.32489583333333333\n",
      "4/5 fold accuracy : 0.32635416666666667\n",
      "5/5 fold accuracy : 0.33489583333333334\n",
      "Mean accuracy : 0.32727083333333334\n",
      "\n"
     ]
    }
   ],
   "source": [
    "k_vs_accuracy_dict, X_train, Y_train, X_test, Y_test = cross_validation(X,Y,nb_folds=5,K=15,verbose=True)"
   ]
  },
  {
   "cell_type": "code",
   "execution_count": 79,
   "id": "e6f9e740",
   "metadata": {},
   "outputs": [
    {
     "data": {
      "image/png": "[encoded data removed]",
      "text/plain": [
       "<Figure size 432x288 with 1 Axes>"
      ]
     },
     "metadata": {
      "needs_background": "light"
     },
     "output_type": "display_data"
    }
   ],
   "source": [
    "K_list = [k for k in range(1,15+1)]\n",
    "for k in K_list:\n",
    "    accuracies = k_vs_accuracy_dict[k]\n",
    "    plt.scatter([k] * len(accuracies), accuracies, color=\"k\")\n",
    "accuracies_mean = np.array([np.mean(v) for k,v in sorted(k_vs_accuracy_dict.items())])\n",
    "accuracies_std = np.array([np.std(v) for k,v in sorted(k_vs_accuracy_dict.items())])\n",
    "plt.errorbar(K_list, accuracies_mean, yerr=accuracies_std)\n",
    "plt.title('Cross-validation on K')\n",
    "plt.xlabel('K')\n",
    "plt.ylabel('Cross-validation accuracy')\n",
    "plt.show()"
   ]
  },
  {
   "cell_type": "markdown",
   "id": "b9fdc690",
   "metadata": {},
   "source": [
    "Nous observons que la validation croisée donne le meilleur taux de classification pour K = 1 avec une valeur de 33,88%.\n",
    "\n",
    "Nous pouvons alors tester le taux de classification sur l'ensemble des données à l'aide du jeu de test que nous n'avons pas utilisé pour trouver le K optimal (ainsi nous sommes certains que K ne dépend pas du jeu de test) :"
   ]
  },
  {
   "cell_type": "code",
   "execution_count": 76,
   "id": "71667f11",
   "metadata": {},
   "outputs": [
    {
     "data": {
      "text/plain": [
       "0.35058333333333336"
      ]
     },
     "execution_count": 76,
     "metadata": {},
     "output_type": "execute_result"
    }
   ],
   "source": [
    "K=1\n",
    "\n",
    "distance_matrix = kppv_distances(X_train,X_test)\n",
    "Y_pred = kppv_predict(distance_matrix,K,Y_train)\n",
    "accuracy = evaluation_classifieur(Y_pred,Y_test)\n",
    "accuracy"
   ]
  },
  {
   "cell_type": "markdown",
   "id": "5301ea99",
   "metadata": {},
   "source": [
    "**Le classifieur a donc un taux de classification de 35,1% sur le jeu de test après sélection de K=1 par validation croisée.**"
   ]
  },
  {
   "cell_type": "markdown",
   "id": "29d47598",
   "metadata": {},
   "source": [
    "##### Test de la validation croisée sur les descripteurs HOG"
   ]
  },
  {
   "cell_type": "code",
   "execution_count": 86,
   "id": "91061ffd",
   "metadata": {
    "scrolled": false
   },
   "outputs": [
    {
     "name": "stdout",
     "output_type": "stream",
     "text": [
      "***** K=1 *****\n",
      "1/5 fold accuracy : 0.31302083333333336\n",
      "2/5 fold accuracy : 0.3252083333333333\n",
      "3/5 fold accuracy : 0.3173958333333333\n",
      "4/5 fold accuracy : 0.3232291666666667\n",
      "5/5 fold accuracy : 0.32385416666666667\n",
      "Mean accuracy : 0.3205416666666666\n",
      "\n",
      "***** K=2 *****\n",
      "1/5 fold accuracy : 0.30541666666666667\n",
      "2/5 fold accuracy : 0.3090625\n",
      "3/5 fold accuracy : 0.2959375\n",
      "4/5 fold accuracy : 0.3065625\n",
      "5/5 fold accuracy : 0.3009375\n",
      "Mean accuracy : 0.30358333333333337\n",
      "\n",
      "***** K=3 *****\n",
      "1/5 fold accuracy : 0.32375\n",
      "2/5 fold accuracy : 0.3303125\n",
      "3/5 fold accuracy : 0.3223958333333333\n",
      "4/5 fold accuracy : 0.3305208333333333\n",
      "5/5 fold accuracy : 0.325\n",
      "Mean accuracy : 0.32639583333333333\n",
      "\n",
      "***** K=4 *****\n",
      "1/5 fold accuracy : 0.3371875\n",
      "2/5 fold accuracy : 0.33489583333333334\n",
      "3/5 fold accuracy : 0.32885416666666667\n",
      "4/5 fold accuracy : 0.33697916666666666\n",
      "5/5 fold accuracy : 0.3360416666666667\n",
      "Mean accuracy : 0.33479166666666665\n",
      "\n",
      "***** K=5 *****\n",
      "1/5 fold accuracy : 0.33645833333333336\n",
      "2/5 fold accuracy : 0.33947916666666667\n",
      "3/5 fold accuracy : 0.3330208333333333\n",
      "4/5 fold accuracy : 0.3380208333333333\n",
      "5/5 fold accuracy : 0.33458333333333334\n",
      "Mean accuracy : 0.3363125\n",
      "\n",
      "***** K=6 *****\n",
      "1/5 fold accuracy : 0.3396875\n",
      "2/5 fold accuracy : 0.3371875\n",
      "3/5 fold accuracy : 0.33541666666666664\n",
      "4/5 fold accuracy : 0.3389583333333333\n",
      "5/5 fold accuracy : 0.3336458333333333\n",
      "Mean accuracy : 0.3369791666666666\n",
      "\n",
      "***** K=7 *****\n",
      "1/5 fold accuracy : 0.33666666666666667\n",
      "2/5 fold accuracy : 0.3378125\n",
      "3/5 fold accuracy : 0.33697916666666666\n",
      "4/5 fold accuracy : 0.34239583333333334\n",
      "5/5 fold accuracy : 0.3383333333333333\n",
      "Mean accuracy : 0.33843750000000006\n",
      "\n",
      "***** K=8 *****\n",
      "1/5 fold accuracy : 0.3363541666666667\n",
      "2/5 fold accuracy : 0.3384375\n",
      "3/5 fold accuracy : 0.338125\n",
      "4/5 fold accuracy : 0.3414583333333333\n",
      "5/5 fold accuracy : 0.3361458333333333\n",
      "Mean accuracy : 0.3381041666666667\n",
      "\n",
      "***** K=9 *****\n",
      "1/5 fold accuracy : 0.33760416666666665\n",
      "2/5 fold accuracy : 0.339375\n",
      "3/5 fold accuracy : 0.33770833333333333\n",
      "4/5 fold accuracy : 0.3403125\n",
      "5/5 fold accuracy : 0.3371875\n",
      "Mean accuracy : 0.3384375\n",
      "\n",
      "***** K=10 *****\n",
      "1/5 fold accuracy : 0.33947916666666667\n",
      "2/5 fold accuracy : 0.33666666666666667\n",
      "3/5 fold accuracy : 0.33697916666666666\n",
      "4/5 fold accuracy : 0.3388541666666667\n",
      "5/5 fold accuracy : 0.33760416666666665\n",
      "Mean accuracy : 0.3379166666666667\n",
      "\n",
      "***** K=11 *****\n",
      "1/5 fold accuracy : 0.336875\n",
      "2/5 fold accuracy : 0.3388541666666667\n",
      "3/5 fold accuracy : 0.33708333333333335\n",
      "4/5 fold accuracy : 0.3413541666666667\n",
      "5/5 fold accuracy : 0.33729166666666666\n",
      "Mean accuracy : 0.33829166666666666\n",
      "\n",
      "***** K=12 *****\n",
      "1/5 fold accuracy : 0.3375\n",
      "2/5 fold accuracy : 0.340625\n",
      "3/5 fold accuracy : 0.33791666666666664\n",
      "4/5 fold accuracy : 0.3360416666666667\n",
      "5/5 fold accuracy : 0.3340625\n",
      "Mean accuracy : 0.33722916666666664\n",
      "\n",
      "***** K=13 *****\n",
      "1/5 fold accuracy : 0.33416666666666667\n",
      "2/5 fold accuracy : 0.3416666666666667\n",
      "3/5 fold accuracy : 0.3378125\n",
      "4/5 fold accuracy : 0.3382291666666667\n",
      "5/5 fold accuracy : 0.3380208333333333\n",
      "Mean accuracy : 0.33797916666666666\n",
      "\n",
      "***** K=14 *****\n",
      "1/5 fold accuracy : 0.333125\n",
      "2/5 fold accuracy : 0.3411458333333333\n",
      "3/5 fold accuracy : 0.3390625\n",
      "4/5 fold accuracy : 0.33625\n",
      "5/5 fold accuracy : 0.3353125\n",
      "Mean accuracy : 0.3369791666666667\n",
      "\n",
      "***** K=15 *****\n",
      "1/5 fold accuracy : 0.334375\n",
      "2/5 fold accuracy : 0.3390625\n",
      "3/5 fold accuracy : 0.3359375\n",
      "4/5 fold accuracy : 0.3335416666666667\n",
      "5/5 fold accuracy : 0.3332291666666667\n",
      "Mean accuracy : 0.33522916666666663\n",
      "\n"
     ]
    }
   ],
   "source": [
    "k_vs_accuracy_dict_hog, X_train_hog, Y_train_hog, X_test_hog, Y_test_hog = cross_validation(X,Y,nb_folds=5,K=15,verbose=True, hog=True)"
   ]
  },
  {
   "cell_type": "code",
   "execution_count": 87,
   "id": "01b20b68",
   "metadata": {
    "scrolled": true
   },
   "outputs": [
    {
     "data": {
      "image/png": "[encoded data removed]",
      "text/plain": [
       "<Figure size 432x288 with 1 Axes>"
      ]
     },
     "metadata": {
      "needs_background": "light"
     },
     "output_type": "display_data"
    }
   ],
   "source": [
    "K_list = [k for k in range(1,15+1)]\n",
    "for k in K_list:\n",
    "    accuracies = k_vs_accuracy_dict_hog[k]\n",
    "    plt.scatter([k] * len(accuracies), accuracies, color=\"k\")\n",
    "accuracies_mean = np.array([np.mean(v) for k,v in sorted(k_vs_accuracy_dict_hog.items())])\n",
    "accuracies_std = np.array([np.std(v) for k,v in sorted(k_vs_accuracy_dict_hog.items())])\n",
    "plt.errorbar(K_list, accuracies_mean, yerr=accuracies_std)\n",
    "plt.title('Cross-validation on K for HOG descriptors')\n",
    "plt.xlabel('K')\n",
    "plt.ylabel('Cross-validation accuracy')\n",
    "plt.show()"
   ]
  },
  {
   "cell_type": "markdown",
   "id": "40e98708",
   "metadata": {},
   "source": [
    "Nous obtenons cette fois un taux maximal de classification moyen de 33,84375% pour K=7 et K=9. Cette valeur est quasiment identique à ce qu'on obtient avec les images originales. Nous allons donc enfin calculer l'accuracy pour K=7 sur le jeu de test :"
   ]
  },
  {
   "cell_type": "code",
   "execution_count": 88,
   "id": "4fe94767",
   "metadata": {},
   "outputs": [
    {
     "data": {
      "text/plain": [
       "0.35"
      ]
     },
     "execution_count": 88,
     "metadata": {},
     "output_type": "execute_result"
    }
   ],
   "source": [
    "K=7\n",
    "\n",
    "distance_matrix = kppv_distances(X_train_hog,X_test_hog)\n",
    "Y_pred_hog = kppv_predict(distance_matrix,K,Y_train_hog)\n",
    "accuracy = evaluation_classifieur(Y_pred_hog,Y_test_hog)\n",
    "accuracy"
   ]
  },
  {
   "cell_type": "markdown",
   "id": "297de35b",
   "metadata": {},
   "source": [
    "**Le classifieur a donc un taux de classification de 35,1% sur le jeu de test après sélection de K=7 par validation croisée sur les descripteurs HOG.**. Nous avons donc la même performance pour des données moins lourdes (puisque décrites par 128 features au lieu de 3072."
   ]
  },
  {
   "cell_type": "markdown",
   "id": "fd4ef7bc",
   "metadata": {},
   "source": [
    "---"
   ]
  },
  {
   "cell_type": "markdown",
   "id": "250051ca",
   "metadata": {},
   "source": [
    "## 2. Réseau de neurones"
   ]
  },
  {
   "cell_type": "code",
   "execution_count": null,
   "id": "086c3c9a",
   "metadata": {},
   "outputs": [],
   "source": []
  }
 ],
 "metadata": {
  "kernelspec": {
   "display_name": "ai",
   "language": "python",
   "name": "ai"
  },
  "language_info": {
   "codemirror_mode": {
    "name": "ipython",
    "version": 3
   },
   "file_extension": ".py",
   "mimetype": "text/x-python",
   "name": "python",
   "nbconvert_exporter": "python",
   "pygments_lexer": "ipython3",
   "version": "3.9.7"
  }
 },
 "nbformat": 4,
 "nbformat_minor": 5
}
