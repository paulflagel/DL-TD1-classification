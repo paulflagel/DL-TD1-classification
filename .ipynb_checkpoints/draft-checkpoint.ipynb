{
 "cells": [
  {
   "cell_type": "code",
   "execution_count": 38,
   "id": "524141c5",
   "metadata": {},
   "outputs": [],
   "source": [
    "import numpy as np\n",
    "import matplotlib.pyplot as plt\n",
    "import pickle\n",
    "from tqdm.auto import tqdm\n",
    "import os\n",
    "\n",
    "path = \"./cifar-10-python/cifar-10-batches-py\"\n",
    "# np.random.seed(1)\n",
    "\n",
    "def unpickle(file):\n",
    "    import pickle\n",
    "\n",
    "    with open(file, \"rb\") as fo:\n",
    "        dict = pickle.load(fo, encoding=\"bytes\")\n",
    "    return dict\n",
    "    # Keys : [b'batch_label', b'labels', b'data', b'filenames']\n",
    "\n",
    "\n",
    "def lecture_cifar(path: str, nb_batches):\n",
    "    X = np.zeros(((nb_batches + 1) * 10000, 3072))\n",
    "    Y = np.zeros(((nb_batches + 1) * 10000))\n",
    "    for i in range(1, nb_batches + 1):\n",
    "        batch_path = f\"{path}/data_batch_{str(i)}\"\n",
    "        new_dict = unpickle(batch_path)\n",
    "        batch_array = new_dict[b\"data\"]\n",
    "        batch_labels = new_dict[b\"labels\"]\n",
    "        X[(i - 1) * 10000 : i * 10000, :] = batch_array\n",
    "        Y[(i - 1) * 10000 : i * 10000] = batch_labels\n",
    "\n",
    "    new_dict = unpickle(f\"{path}/test_batch\")\n",
    "    batch_array = new_dict[b\"data\"]\n",
    "    batch_labels = new_dict[b\"labels\"]\n",
    "    X[nb_batches * 10000 : (nb_batches + 1) * 10000, :] = batch_array\n",
    "    Y[nb_batches * 10000 : (nb_batches + 1) * 10000] = batch_labels\n",
    "\n",
    "    X = np.float32(X)\n",
    "    Y = Y.astype(int)\n",
    "\n",
    "    return X, Y\n",
    "\n",
    "\n",
    "def decoupage_donnees(X, Y, ratio=0.8, small_sample=False):\n",
    "    N = X.shape[0]\n",
    "    indices = np.array(range(N))\n",
    "    np.random.shuffle(indices)\n",
    "\n",
    "    if small_sample:\n",
    "        X_train = X[indices[:500], :]\n",
    "        Y_train = Y[indices[:500]]\n",
    "\n",
    "        X_test = X[indices[-100:], :]\n",
    "        Y_test = Y[indices[-100:]]\n",
    "\n",
    "        return X_train, Y_train, X_test, Y_test\n",
    "\n",
    "    M = int(ratio * N)\n",
    "    X_train = X[indices[:M], :]\n",
    "    Y_train = Y[indices[:M]]\n",
    "\n",
    "    X_test = X[indices[M:], :]\n",
    "    Y_test = Y[indices[M:]]\n",
    "\n",
    "    return X_train, Y_train, X_test, Y_test\n",
    "\n",
    "\n",
    "def one_hot_encoding(Y, K):\n",
    "    \"\"\"\n",
    "    Convertit un vecteur d'entiers représentant une classe en une matrice contenant les vecteurs one-hot.\n",
    "    Exemple : pour 4 classes allant de 0 à 3, 2 s'écrit [0 0 2 0]\n",
    "    \"\"\"\n",
    "    Y_out = np.zeros((len(Y), K))\n",
    "    for i, value in enumerate(Y):\n",
    "        Y_out[i, value] = 1\n",
    "    return Y_out"
   ]
  },
  {
   "cell_type": "code",
   "execution_count": 39,
   "id": "59b0cd45",
   "metadata": {},
   "outputs": [],
   "source": [
    "label_dict = unpickle(f\"{path}/batches.meta\")\n",
    "label_names = label_dict[b\"label_names\"]\n",
    "\n",
    "X, Y = lecture_cifar(path=path, nb_batches=5)\n",
    "X_train, Y_train, X_test, Y_test = decoupage_donnees(\n",
    "    X, Y, ratio=0.8, small_sample=True\n",
    ")"
   ]
  },
  {
   "cell_type": "code",
   "execution_count": 59,
   "id": "923eeece",
   "metadata": {},
   "outputs": [],
   "source": [
    "class Neuralnet:\n",
    "    def __init__(self, X_train, X_test, Y_train, Y_test):\n",
    "        self.X_train = X_train\n",
    "        self.X_test = X_test\n",
    "        self.Y_train = Y_train\n",
    "        self.Y_test = Y_test\n",
    "        if os.path.isfile(\"./nn_weights.pkl\"):\n",
    "            self.load_weights()\n",
    "        else:\n",
    "            self.weights = {}\n",
    "\n",
    "    def train(self, learning_rate=0.1, nb_iter=10000, plot=True, save_weights=False):\n",
    "        ##########################\n",
    "        # Génération des données #\n",
    "        ##########################\n",
    "        Y_train = one_hot_encoding(self.Y_train, 10)\n",
    "\n",
    "        N = len(self.X_train)  # N est le nombre de données d'entrée\n",
    "        D_in = len(self.X_train[0])  # D_in est la dimension des données d'entrée\n",
    "        D_h = 128  # D_h le nombre de neurones de la couche cachée\n",
    "        D_out = 10  # D_out est la dimension de sortie (nombre de neurones de la couche de sortie)\n",
    "        # N, D_in, D_h, D_out = 30, 2, 10, 3\n",
    "\n",
    "        # # Création d'une matrice d'entrée X et de sortie Y avec des valeurs aléatoires\n",
    "        # X = np.random.random((N, D_in))\n",
    "        # Y = np.random.random((N, D_out))\n",
    "\n",
    "        # Initialisation aléatoire des poids du réseau\n",
    "\n",
    "        self.weights[\"W1\"] = 2 * np.random.random((D_in, D_h)) - 1\n",
    "        self.weights[\"b1\"] = np.zeros((1, D_h))\n",
    "        self.weights[\"W2\"] = 2 * np.random.random((D_h, D_out)) - 1\n",
    "        self.weights[\"b2\"] = np.zeros((1, D_out))\n",
    "\n",
    "        loss_values = []\n",
    "\n",
    "        for t in range(nb_iter):\n",
    "            W1, b1, W2, b2 = (\n",
    "                self.weights[\"W1\"],\n",
    "                self.weights[\"b1\"],\n",
    "                self.weights[\"W2\"],\n",
    "                self.weights[\"b2\"],\n",
    "            )\n",
    "            ####################################################\n",
    "            # Passe avant : calcul de la sortie prédite Y_pred #\n",
    "            ####################################################\n",
    "            I1 = X_train.dot(W1) + b1  # Potentiel d'entrée de la couche cachée\n",
    "            O1 = 1 / (\n",
    "                1 + np.exp(-I1)\n",
    "            )  # Sortie de la couche cachée (fonction d'activation de type sigmoïde)\n",
    "            I2 = O1.dot(W2) + b2  # Potentiel d'entrée de la couche de sortie\n",
    "            O2 = 1 / (\n",
    "                1 + np.exp(-I2)\n",
    "            )  # Sortie de la couche de sortie (fonction d'activation de type sigmoïde)\n",
    "            Y_pred = O2  # Les valeurs prédites sont les sorties de la couche de sortie\n",
    "\n",
    "            ########################################################\n",
    "            # Calcul et affichage de la fonction perte de type MSE #\n",
    "            ########################################################\n",
    "            loss = np.square(Y_pred - Y_train).sum() / N\n",
    "            loss_values.append(loss)\n",
    "            if t % 1000 == 0:\n",
    "                print(loss)\n",
    "\n",
    "            delta_O2 = Y_pred - Y_train  # N*D_out\n",
    "            delta_I2 = ((1 - O2) * O2) * delta_O2  # N*D_out\n",
    "            dW2 = (O1.T).dot(delta_I2)  # D_h * D_out\n",
    "            db2 = np.sum(delta_I2, axis=0)  # 1*D_out\n",
    "\n",
    "            delta_01 = delta_I2.dot(W2.T)  # N*D_h\n",
    "            delta_I1 = ((1 - O1) * O1) * delta_01  # N*D_h\n",
    "            dW1 = (X_train.T).dot(delta_I1)\n",
    "            db1 = np.sum(delta_I1, axis=0)\n",
    "\n",
    "            W2 -= learning_rate * dW2\n",
    "            b2 -= learning_rate * db2\n",
    "            W1 -= learning_rate * dW1\n",
    "            b1 -= learning_rate * db1\n",
    "\n",
    "            (\n",
    "                self.weights[\"W1\"],\n",
    "                self.weights[\"b1\"],\n",
    "                self.weights[\"W2\"],\n",
    "                self.weights[\"b2\"],\n",
    "            ) = (W1, b1, W2, b2)\n",
    "\n",
    "        if save_weights:\n",
    "            self.save_weights()\n",
    "\n",
    "        if plot:\n",
    "            plt.plot(range(nb_iter), loss_values, \"o\", color=\"blue\")\n",
    "\n",
    "    def predict(self, X):\n",
    "        W1, b1, W2, b2 = (\n",
    "            self.weights[\"W1\"],\n",
    "            self.weights[\"b1\"],\n",
    "            self.weights[\"W2\"],\n",
    "            self.weights[\"b2\"],\n",
    "        )\n",
    "\n",
    "        I1 = X.dot(W1) + b1  # Potentiel d'entrée de la couche cachée\n",
    "        O1 = 1 / (\n",
    "            1 + np.exp(-I1)\n",
    "        )  # Sortie de la couche cachée (fonction d'activation de type sigmoïde)\n",
    "        I2 = O1.dot(W2) + b2  # Potentiel d'entrée de la couche de sortie\n",
    "        O2 = 1 / (\n",
    "            1 + np.exp(-I2)\n",
    "        )  # Sortie de la couche de sortie (fonction d'activation de type sigmoïde)\n",
    "        Y_pred = O2  # Les valeurs prédites sont les sorties de la couche de sortie\n",
    "\n",
    "        return Y_pred\n",
    "\n",
    "    def run(self):\n",
    "        if not self.weights:\n",
    "            self.train()\n",
    "\n",
    "        Y_pred = self.predict(self.X_test)\n",
    "        Y_pred = np.argmax(Y_pred, axis=1)\n",
    "        print(Y_pred)\n",
    "        print(Y_test)\n",
    "\n",
    "    def save_weights(self):\n",
    "        with open(\"nn_weights.pkl\", \"wb\") as f:\n",
    "            pickle.dump(self.weights, f)\n",
    "\n",
    "    def load_weights(self):\n",
    "        with open(\"nn_weights.pkl\", \"rb\") as f:\n",
    "            self.weights = pickle.load(f)"
   ]
  },
  {
   "cell_type": "code",
   "execution_count": 60,
   "id": "778a086e",
   "metadata": {},
   "outputs": [
    {
     "name": "stderr",
     "output_type": "stream",
     "text": [
      "/var/folders/rx/rfnf3b4d7l5_2w7ptp3y3_740000gn/T/ipykernel_24404/3838404022.py:49: RuntimeWarning: overflow encountered in exp\n",
      "  1 + np.exp(-I1)\n"
     ]
    },
    {
     "name": "stdout",
     "output_type": "stream",
     "text": [
      "4.727295141466203\n",
      "0.9999999999686675\n",
      "0.9999999999685762\n",
      "0.9999999999685003\n",
      "0.9999999999684372\n",
      "0.9999999999683846\n",
      "0.9999999999683403\n",
      "0.999999999968303\n",
      "0.9999999999682709\n",
      "0.9999999999682434\n"
     ]
    },
    {
     "data": {
      "image/png": "[encoded data removed]",
      "text/plain": [
       "<Figure size 432x288 with 1 Axes>"
      ]
     },
     "metadata": {
      "needs_background": "light"
     },
     "output_type": "display_data"
    }
   ],
   "source": [
    "nn = Neuralnet(X_train, X_test, Y_train, Y_test)\n",
    "nn.train()"
   ]
  },
  {
   "cell_type": "code",
   "execution_count": 61,
   "id": "a5524f81",
   "metadata": {},
   "outputs": [
    {
     "data": {
      "text/plain": [
       "array([[172., 170., 171., ...,  35.,  44.,  48.],\n",
       "       [128., 131., 133., ..., 151., 147., 148.],\n",
       "       [ 52.,  56.,  64., ...,  40.,  38.,  41.],\n",
       "       ...,\n",
       "       [ 20.,  41.,  41., ..., 114.,  64.,  15.],\n",
       "       [160., 164., 164., ..., 154., 150., 147.],\n",
       "       [230., 225., 233., ..., 133., 133., 138.]], dtype=float32)"
      ]
     },
     "execution_count": 61,
     "metadata": {},
     "output_type": "execute_result"
    }
   ],
   "source": [
    "X_test"
   ]
  },
  {
   "cell_type": "code",
   "execution_count": 66,
   "id": "b3d6d9ae",
   "metadata": {},
   "outputs": [
    {
     "name": "stderr",
     "output_type": "stream",
     "text": [
      "/var/folders/rx/rfnf3b4d7l5_2w7ptp3y3_740000gn/T/ipykernel_24404/3838404022.py:103: RuntimeWarning: overflow encountered in exp\n",
      "  1 + np.exp(-I1)\n"
     ]
    },
    {
     "data": {
      "text/plain": [
       "array([[9.45921423e-034, 4.37812010e-110, 1.04216251e-073,\n",
       "        3.00300999e-052, 3.64701519e-073, 2.46390616e-058,\n",
       "        5.87517195e-072, 4.97285457e-064, 1.04445271e-011,\n",
       "        2.31442083e-074]])"
      ]
     },
     "execution_count": 66,
     "metadata": {},
     "output_type": "execute_result"
    }
   ],
   "source": [
    "a=nn.predict(X_test[0])\n",
    "b=nn.predict(X_test[3])\n",
    "a"
   ]
  },
  {
   "cell_type": "code",
   "execution_count": 67,
   "id": "741d1465",
   "metadata": {},
   "outputs": [
    {
     "data": {
      "text/plain": [
       "array([[1.16770957e-033, 6.68633315e-106, 3.74146635e-071,\n",
       "        4.41006904e-049, 3.73533576e-070, 2.32738219e-055,\n",
       "        7.08700978e-068, 1.24695114e-061, 1.18404944e-011,\n",
       "        1.75141389e-069]])"
      ]
     },
     "execution_count": 67,
     "metadata": {},
     "output_type": "execute_result"
    }
   ],
   "source": [
    "b"
   ]
  },
  {
   "cell_type": "code",
   "execution_count": 68,
   "id": "2d439422",
   "metadata": {
    "scrolled": true
   },
   "outputs": [
    {
     "data": {
      "text/plain": [
       "8"
      ]
     },
     "execution_count": 68,
     "metadata": {},
     "output_type": "execute_result"
    }
   ],
   "source": [
    "np.argmax(a)"
   ]
  },
  {
   "cell_type": "code",
   "execution_count": 69,
   "id": "de0f08c6",
   "metadata": {},
   "outputs": [
    {
     "data": {
      "text/plain": [
       "8"
      ]
     },
     "execution_count": 69,
     "metadata": {},
     "output_type": "execute_result"
    }
   ],
   "source": [
    "np.argmax(b)"
   ]
  },
  {
   "cell_type": "code",
   "execution_count": 70,
   "id": "cf03fa02",
   "metadata": {},
   "outputs": [
    {
     "data": {
      "text/plain": [
       "array([[162., 164., 167., ...,  87.,  84.,  80.],\n",
       "       [ 66.,  75.,  84., ...,   4.,  53., 151.],\n",
       "       [ 66.,  65.,  66., ...,  59.,  61.,  61.],\n",
       "       ...,\n",
       "       [208., 209., 163., ...,  98.,  79.,  79.],\n",
       "       [ 70.,  34.,  13., ...,  28.,  27.,  27.],\n",
       "       [247., 242., 243., ...,  47.,  48.,  39.]], dtype=float32)"
      ]
     },
     "execution_count": 70,
     "metadata": {},
     "output_type": "execute_result"
    }
   ],
   "source": [
    "X_train"
   ]
  },
  {
   "cell_type": "code",
   "execution_count": 71,
   "id": "72ae8097",
   "metadata": {},
   "outputs": [
    {
     "data": {
      "text/plain": [
       "array([[0.63529414, 0.6431373 , 0.654902  , ..., 0.34117648, 0.32941177,\n",
       "        0.3137255 ],\n",
       "       [0.25882354, 0.29411766, 0.32941177, ..., 0.01568628, 0.20784314,\n",
       "        0.5921569 ],\n",
       "       [0.25882354, 0.25490198, 0.25882354, ..., 0.23137255, 0.23921569,\n",
       "        0.23921569],\n",
       "       ...,\n",
       "       [0.8156863 , 0.81960785, 0.6392157 , ..., 0.38431373, 0.30980393,\n",
       "        0.30980393],\n",
       "       [0.27450982, 0.13333334, 0.05098039, ..., 0.10980392, 0.10588235,\n",
       "        0.10588235],\n",
       "       [0.96862745, 0.9490196 , 0.9529412 , ..., 0.18431373, 0.1882353 ,\n",
       "        0.15294118]], dtype=float32)"
      ]
     },
     "execution_count": 71,
     "metadata": {},
     "output_type": "execute_result"
    }
   ],
   "source": [
    "X_train/255"
   ]
  },
  {
   "cell_type": "code",
   "execution_count": 108,
   "id": "a05c8eb5",
   "metadata": {},
   "outputs": [
    {
     "data": {
      "text/plain": [
       "<matplotlib.image.AxesImage at 0x11f6a6fa0>"
      ]
     },
     "execution_count": 108,
     "metadata": {},
     "output_type": "execute_result"
    },
    {
     "data": {
      "image/png": "[encoded data removed]",
      "text/plain": [
       "<Figure size 460.8x345.6 with 1 Axes>"
      ]
     },
     "metadata": {
      "needs_background": "light"
     },
     "output_type": "display_data"
    }
   ],
   "source": [
    "im=X_train[3]/255\n",
    "\n",
    "im_r = im[0:1024].reshape(32, 32)\n",
    "im_g = im[1024:2048].reshape(32, 32)\n",
    "im_b = im[2048:].reshape(32, 32)\n",
    "\n",
    "img = np.dstack((im_r, im_g, im_b))\n",
    "\n",
    "plt.imshow(img)"
   ]
  },
  {
   "cell_type": "code",
   "execution_count": null,
   "id": "50bbbce1",
   "metadata": {},
   "outputs": [],
   "source": []
  }
 ],
 "metadata": {
  "kernelspec": {
   "display_name": "ai",
   "language": "python",
   "name": "ai"
  },
  "language_info": {
   "codemirror_mode": {
    "name": "ipython",
    "version": 3
   },
   "file_extension": ".py",
   "mimetype": "text/x-python",
   "name": "python",
   "nbconvert_exporter": "python",
   "pygments_lexer": "ipython3",
   "version": "3.9.7"
  }
 },
 "nbformat": 4,
 "nbformat_minor": 5
}
